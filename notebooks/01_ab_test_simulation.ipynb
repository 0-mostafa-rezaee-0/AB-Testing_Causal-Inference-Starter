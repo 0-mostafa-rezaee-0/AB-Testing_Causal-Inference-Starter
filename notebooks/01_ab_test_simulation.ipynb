{
 "cells": [
  {
   "cell_type": "markdown",
   "metadata": {},
   "source": [
    "<h1 align=\"center\">A/B Test Simulation and Analysis</h1>"
   ]
  },
  {
   "cell_type": "markdown",
   "metadata": {},
   "source": [
    "# 1. Libraries and Setup"
   ]
  },
  {
   "cell_type": "code",
   "execution_count": 1,
   "metadata": {},
   "outputs": [],
   "source": [
    "import numpy as np\n",
    "import pandas as pd\n",
    "import matplotlib.pyplot as plt\n",
    "import os\n",
    "from scipy import stats\n",
    "\n",
    "# Set random seed for reproducibility\n",
    "np.random.seed(42)"
   ]
  },
  {
   "cell_type": "markdown",
   "metadata": {},
   "source": [
    "# 2. Data Simulation"
   ]
  },
  {
   "cell_type": "markdown",
   "metadata": {},
   "source": [
    "In this section, we'll create synthetic data that represents a typical A/B test scenario. Here we simulate:\n",
    "- Two groups: control (existing version) and treatment (new version)\n",
    "- 10,000 users in each group\n",
    "- Binary outcome: conversion (1) or no conversion (0)\n",
    "- Control group has a 10% conversion rate\n",
    "- Treatment group has a 11% conversion rate (a 1% absolute improvement)"
   ]
  },
  {
   "cell_type": "code",
   "execution_count": 2,
   "metadata": {},
   "outputs": [
    {
     "data": {
      "text/html": [
       "<div>\n",
       "<style scoped>\n",
       "    .dataframe tbody tr th:only-of-type {\n",
       "        vertical-align: middle;\n",
       "    }\n",
       "\n",
       "    .dataframe tbody tr th {\n",
       "        vertical-align: top;\n",
       "    }\n",
       "\n",
       "    .dataframe thead th {\n",
       "        text-align: right;\n",
       "    }\n",
       "</style>\n",
       "<table border=\"1\" class=\"dataframe\">\n",
       "  <thead>\n",
       "    <tr style=\"text-align: right;\">\n",
       "      <th></th>\n",
       "      <th>group</th>\n",
       "      <th>converted</th>\n",
       "    </tr>\n",
       "  </thead>\n",
       "  <tbody>\n",
       "    <tr>\n",
       "      <th>0</th>\n",
       "      <td>control</td>\n",
       "      <td>0</td>\n",
       "    </tr>\n",
       "    <tr>\n",
       "      <th>1</th>\n",
       "      <td>control</td>\n",
       "      <td>1</td>\n",
       "    </tr>\n",
       "    <tr>\n",
       "      <th>2</th>\n",
       "      <td>control</td>\n",
       "      <td>0</td>\n",
       "    </tr>\n",
       "    <tr>\n",
       "      <th>3</th>\n",
       "      <td>control</td>\n",
       "      <td>0</td>\n",
       "    </tr>\n",
       "    <tr>\n",
       "      <th>4</th>\n",
       "      <td>control</td>\n",
       "      <td>0</td>\n",
       "    </tr>\n",
       "  </tbody>\n",
       "</table>\n",
       "</div>"
      ],
      "text/plain": [
       "     group  converted\n",
       "0  control          0\n",
       "1  control          1\n",
       "2  control          0\n",
       "3  control          0\n",
       "4  control          0"
      ]
     },
     "execution_count": 2,
     "metadata": {},
     "output_type": "execute_result"
    }
   ],
   "source": [
    "# Simulation parameters\n",
    "n = 10000  # users per group\n",
    "p_control = 0.10  # 10% conversion in control\n",
    "p_treatment = 0.11  # 11% conversion in treatment\n",
    "\n",
    "# Generate random binary outcomes using binomial distribution\n",
    "control = np.random.binomial(1, p_control, n)\n",
    "treatment = np.random.binomial(1, p_treatment, n)\n",
    "\n",
    "# Create a dataframe to store the results\n",
    "data = pd.DataFrame({\n",
    "    'group': ['control'] * n + ['treatment'] * n,\n",
    "    'converted': np.concatenate([control, treatment])\n",
    "})\n",
    "\n",
    "# Display the first few rows of the dataframe\n",
    "data.head()"
   ]
  },
  {
   "cell_type": "code",
   "execution_count": 3,
   "metadata": {},
   "outputs": [],
   "source": [
    "# Save data to CSV file\n",
    "os.makedirs(\"../data\", exist_ok=True)\n",
    "data.to_csv('../data/synthetic_ab_test.csv', index=False)"
   ]
  },
  {
   "cell_type": "markdown",
   "metadata": {},
   "source": [
    "# 3. Statistical Analysis"
   ]
  },
  {
   "cell_type": "markdown",
   "metadata": {},
   "source": [
    "## 3.1. Manual Hypothesis Testing"
   ]
  },
  {
   "cell_type": "markdown",
   "metadata": {},
   "source": [
    "Now we'll conduct a hypothesis test to determine if the difference between the treatment and control groups is statistically significant.\n",
    "\n",
    "Our hypotheses are:\n",
    "- **Null Hypothesis (H₀)**: There is no difference between control and treatment (δ = 0)\n",
    "- **Alternative Hypothesis (H₁)**: There is a difference between control and treatment (δ ≠ 0)\n",
    "\n",
    "We'll use a two-proportion z-test, which is appropriate for comparing binary outcomes between two groups."
   ]
  },
  {
   "cell_type": "code",
   "execution_count": 4,
   "metadata": {},
   "outputs": [
    {
     "name": "stdout",
     "output_type": "stream",
     "text": [
      "Control conversion rate: 0.0961\n",
      "Treatment conversion rate: 0.1130\n",
      "Absolute lift: 0.0169 (17.59% relative lift)\n",
      "Z-score: 3.9056\n",
      "p-value (manual calculation): 0.0001\n"
     ]
    }
   ],
   "source": [
    "# Calculate the mean (proportion) for each group\n",
    "mean_control = control.mean()\n",
    "mean_treatment = treatment.mean()\n",
    "delta = mean_treatment - mean_control\n",
    "\n",
    "# Calculate pooled proportion and standard error\n",
    "p_pooled = (control.sum() + treatment.sum()) / (2 * n)\n",
    "se_pooled = np.sqrt(p_pooled * (1 - p_pooled) * 2 / n)\n",
    "\n",
    "# Calculate z-score and p-value\n",
    "z_score = delta / se_pooled\n",
    "p_value_manual = 2 * (1 - stats.norm.cdf(np.abs(z_score)))\n",
    "\n",
    "print(f\"Control conversion rate: {mean_control:.4f}\")\n",
    "print(f\"Treatment conversion rate: {mean_treatment:.4f}\")\n",
    "print(f\"Absolute lift: {delta:.4f} ({delta/mean_control*100:.2f}% relative lift)\")\n",
    "print(f\"Z-score: {z_score:.4f}\")\n",
    "print(f\"p-value (manual calculation): {p_value_manual:.4f}\")"
   ]
  },
  {
   "cell_type": "markdown",
   "metadata": {},
   "source": [
    "## 3.2. Validation with SciPy"
   ]
  },
  {
   "cell_type": "markdown",
   "metadata": {},
   "source": [
    "To verify our manual calculations, we'll use SciPy's implementation of the t-test. For large samples, the t-test and z-test give very similar results."
   ]
  },
  {
   "cell_type": "code",
   "execution_count": 5,
   "metadata": {},
   "outputs": [
    {
     "name": "stdout",
     "output_type": "stream",
     "text": [
      "p-value (scipy t-test): 0.0001\n",
      "The result is statistically significant at α = 0.05\n",
      "The treatment performs better than the control\n"
     ]
    }
   ],
   "source": [
    "# Use SciPy's t-test to validate our manual calculation\n",
    "_, p_value_scipy = stats.ttest_ind(treatment, control)\n",
    "print(f\"p-value (scipy t-test): {p_value_scipy:.4f}\")\n",
    "\n",
    "# Determine statistical significance\n",
    "alpha = 0.05\n",
    "if p_value_manual < alpha:\n",
    "    print(f\"The result is statistically significant at α = {alpha}\")\n",
    "    if delta > 0:\n",
    "        print(\"The treatment performs better than the control\")\n",
    "    else:\n",
    "        print(\"The control performs better than the treatment\")\n",
    "else:\n",
    "    print(f\"The result is not statistically significant at α = {alpha}\")"
   ]
  },
  {
   "cell_type": "markdown",
   "metadata": {},
   "source": [
    "## 3.3. Confidence Interval"
   ]
  },
  {
   "cell_type": "markdown",
   "metadata": {},
   "source": [
    "A confidence interval provides a range of plausible values for the true difference between groups. A 95% confidence interval means that if we repeated the experiment many times, 95% of the intervals would contain the true difference."
   ]
  },
  {
   "cell_type": "code",
   "execution_count": 6,
   "metadata": {},
   "outputs": [
    {
     "name": "stdout",
     "output_type": "stream",
     "text": [
      "95% Confidence Interval for lift: (0.0084, 0.0254)\n",
      "Since the entire confidence interval is positive, we're 95% confident that the treatment improves conversion rate\n"
     ]
    }
   ],
   "source": [
    "# Calculate 95% confidence interval\n",
    "ci_low = delta - 1.96 * se_pooled\n",
    "ci_high = delta + 1.96 * se_pooled\n",
    "\n",
    "print(f\"95% Confidence Interval for lift: ({ci_low:.4f}, {ci_high:.4f})\")\n",
    "\n",
    "# Interpretation\n",
    "if ci_low > 0:\n",
    "    print(\"Since the entire confidence interval is positive, we're 95% confident that the treatment improves conversion rate\")\n",
    "elif ci_high < 0:\n",
    "    print(\"Since the entire confidence interval is negative, we're 95% confident that the treatment reduces conversion rate\")\n",
    "else:\n",
    "    print(\"Since the confidence interval contains zero, we cannot be 95% confident about the direction of the effect\")"
   ]
  },
  {
   "cell_type": "markdown",
   "metadata": {},
   "source": [
    "# 4. Visualization"
   ]
  },
  {
   "cell_type": "markdown",
   "metadata": {},
   "source": [
    "Visualization helps communicate the results effectively. We'll create a bar chart showing the conversion rates for each group along with their 95% confidence intervals."
   ]
  },
  {
   "cell_type": "code",
   "execution_count": 7,
   "metadata": {},
   "outputs": [
    {
     "data": {
      "image/png": "[encoded data removed]",
      "text/plain": [
       "<Figure size 1000x600 with 1 Axes>"
      ]
     },
     "metadata": {},
     "output_type": "display_data"
    }
   ],
   "source": [
    "plt.figure(figsize=(10, 6))\n",
    "plt.bar(['Control', 'Treatment'], [mean_control, mean_treatment],\n",
    "        yerr=[1.96 * np.sqrt(mean_control * (1 - mean_control) / n),\n",
    "              1.96 * np.sqrt(mean_treatment * (1 - mean_treatment) / n)],\n",
    "        capsize=5, color=['skyblue', 'salmon'])\n",
    "plt.ylabel('Conversion Rate')\n",
    "plt.title('Conversion Rates with 95% Confidence Intervals')\n",
    "plt.grid(axis='y', linestyle='--', alpha=0.7)\n",
    "plt.ylim(0, max(mean_control, mean_treatment) * 1.2)  # Add some space above the bars\n",
    "\n",
    "# Add text annotations\n",
    "plt.text(0, mean_control, f\"{mean_control:.4f}\", ha='center', va='bottom')\n",
    "plt.text(1, mean_treatment, f\"{mean_treatment:.4f}\", ha='center', va='bottom')\n",
    "\n",
    "# Save and display the figure\n",
    "os.makedirs(\"../images\", exist_ok=True)\n",
    "plt.savefig('../images/conversion_bar_ci.png', dpi=300, bbox_inches='tight')\n",
    "plt.show()"
   ]
  },
  {
   "cell_type": "markdown",
   "metadata": {},
   "source": [
    "# 5. False Positive Rate Simulation"
   ]
  },
  {
   "cell_type": "markdown",
   "metadata": {},
   "source": [
    "The false positive rate (Type I error) is the probability of incorrectly rejecting the null hypothesis when it's actually true. We'll simulate this by running many A/B tests where there is no actual difference between groups."
   ]
  },
  {
   "cell_type": "code",
   "execution_count": 8,
   "metadata": {},
   "outputs": [
    {
     "name": "stdout",
     "output_type": "stream",
     "text": [
      "Simulated False Positive Rate (α=0.05): 0.054\n",
      "Expected False Positive Rate: 0.05\n",
      "Simulated False Positive Rate with 5000 simulations: 0.046\n"
     ]
    }
   ],
   "source": [
    "def simulate_fpr(null_p=0.10, sims=1000, n=10000, alpha=0.05):\n",
    "    \"\"\"\n",
    "    Simulate false positive rate by running multiple A/B tests where the null hypothesis is true.\n",
    "    \n",
    "    Parameters:\n",
    "    -----------\n",
    "    null_p : float\n",
    "        The true conversion rate for both groups.\n",
    "    sims : int\n",
    "        Number of simulations to run.\n",
    "    n : int\n",
    "        Number of users in each group.\n",
    "    alpha : float\n",
    "        Significance level.\n",
    "    \n",
    "    Returns:\n",
    "    --------\n",
    "    float\n",
    "        Proportion of simulations where null hypothesis was falsely rejected.\n",
    "    \"\"\"\n",
    "    false_positives = 0\n",
    "    \n",
    "    for _ in range(sims):\n",
    "        # Generate data with identical conversion rates\n",
    "        ctrl = np.random.binomial(1, null_p, n)\n",
    "        trt = np.random.binomial(1, null_p, n)\n",
    "        \n",
    "        # Run t-test\n",
    "        _, pval = stats.ttest_ind(trt, ctrl)\n",
    "        \n",
    "        # Count false positives\n",
    "        if pval < alpha:\n",
    "            false_positives += 1\n",
    "            \n",
    "    return false_positives / sims\n",
    "\n",
    "# Run the simulation\n",
    "fpr = simulate_fpr()\n",
    "print(f\"Simulated False Positive Rate (α=0.05): {fpr:.3f}\")\n",
    "print(f\"Expected False Positive Rate: 0.05\")\n",
    "\n",
    "# Run simulation with more iterations for better accuracy\n",
    "fpr_more_sims = simulate_fpr(sims=5000)\n",
    "print(f\"Simulated False Positive Rate with 5000 simulations: {fpr_more_sims:.3f}\")"
   ]
  },
  {
   "cell_type": "markdown",
   "metadata": {},
   "source": [
    "# 6. Conclusion"
   ]
  },
  {
   "cell_type": "markdown",
   "metadata": {},
   "source": [
    "In this notebook, we've simulated an A/B test and performed the necessary statistical analysis to determine if the treatment group performs significantly better than the control group.\n",
    "\n",
    "Key findings:\n",
    "1. The treatment group showed a 1% absolute improvement in conversion rate.\n",
    "2. We calculated a p-value to evaluate statistical significance.\n",
    "3. We determined a 95% confidence interval for the true lift.\n",
    "4. We visualized the results with appropriate error bars.\n",
    "5. We simulated the false positive rate to validate our statistical approach.\n",
    "\n",
    "When conducting real A/B tests, it's important to:\n",
    "- Define clear metrics before starting the test\n",
    "- Ensure proper randomization of users\n",
    "- Calculate the required sample size in advance\n",
    "- Monitor the test for sufficient duration\n",
    "- Consider practical significance along with statistical significance\n",
    "\n",
    "A statistically significant result doesn't always mean a practically significant one - business context matters!"
   ]
  }
 ],
 "metadata": {
  "kernelspec": {
   "display_name": "Python 3",
   "language": "python",
   "name": "python3"
  },
  "language_info": {
   "codemirror_mode": {
    "name": "ipython",
    "version": 3
   },
   "file_extension": ".py",
   "mimetype": "text/x-python",
   "name": "python",
   "nbconvert_exporter": "python",
   "pygments_lexer": "ipython3",
   "version": "3.10.12"
  }
 },
 "nbformat": 4,
 "nbformat_minor": 2
}
